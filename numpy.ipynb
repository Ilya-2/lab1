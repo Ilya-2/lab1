{
  "cells": [
    {
      "cell_type": "markdown",
      "metadata": {
        "id": "vC84e9kzyxPy"
      },
      "source": [
        "<h1>Импорт библиотек"
      ]
    },
    {
      "cell_type": "code",
      "execution_count": null,
      "metadata": {
        "id": "cgKeNegmQG5S"
      },
      "outputs": [],
      "source": [
        "import numpy as np\n",
        "import matplotlib.pyplot as plt"
      ]
    },
    {
      "cell_type": "markdown",
      "metadata": {
        "id": "qFM9uVU2x4Ls"
      },
      "source": [
        "<h1>Задача 1. Дан набор из $p$ матриц размерностью $(n, n)$ и $p$ векторов размерностью $(n, 1)$, найти сумму произведений матриц на векторы. Написать тесты для кода"
      ]
    },
    {
      "cell_type": "code",
      "execution_count": null,
      "metadata": {
        "id": "IAbUvEiYyWFF"
      },
      "outputs": [],
      "source": [
        "def sum_prod(X, V):\n",
        "    '''\n",
        "    X - матрицы (n, n)\n",
        "    V - векторы (n, 1)\n",
        "    Гарантируется, что len(X) == len(V)\n",
        "    '''\n",
        "    s = 0\n",
        "    for i in range(len(X)):\n",
        "        s += np.dot(X[i], V[i])\n",
        "    return s\n",
        "\n",
        "\n",
        "assert np.array_equal(sum_prod([[[1, 2], [3, 4]]], [[1, 2]]), [5, 11])\n",
        "assert np.array_equal(sum_prod([[[5, 6], [7, 8]], [[1, 2], [3, 4]]], [[1, 1], [2, 2]]), [17, 29])\n",
        "assert np.array_equal(sum_prod([[[5, 6], [7, 8]], [[1, 2], [3, 4]], [[7, 5], [1, 1]]], [[1, 1], [2, 2], [3, 3]]),\n",
        "                      [53, 35])\n",
        "assert np.array_equal(sum_prod([], []), 0)\n",
        "assert np.array_equal(sum_prod([[[1]]], [[1]]), [1])"
      ]
    },
    {
      "cell_type": "markdown",
      "metadata": {
        "id": "TKwPG4fIy2w4"
      },
      "source": [
        "<h1>Задача 2. Дана матрица M, напишите функцию, которая бинаризует матрицу по некоторому threshold (то есть, все значения большие threshold становятся равными 1, иначе 0). Напишите тесты для кода"
      ]
    },
    {
      "cell_type": "code",
      "execution_count": 6,
      "metadata": {
        "id": "KQDNMgsjRNH7"
      },
      "outputs": [
        {
          "name": "stdout",
          "output_type": "stream",
          "text": [
            "Все тесты пройдены!\n"
          ]
        }
      ],
      "source": [
        "def binarize(M, threshold=0.5):\n",
        "    matrix = []\n",
        "    for i in M:\n",
        "        check = [1 if e > threshold else 0 for e in i]\n",
        "        matrix.append(check)\n",
        "    return matrix\n",
        "\n",
        "def test():\n",
        "    assert binarize([[0.1, 0.6, 0.4], [0.7, 0.3, 0.8], [0.2, 0.9, 0.5]]) == [[0, 1, 0], [1, 0, 1], [0, 1, 0]]\n",
        "    assert binarize([[0, 0, 0], [0, 0, 0]]) == [[0, 0, 0], [0, 0, 0]]\n",
        "    print('Все тесты пройдены!')\n",
        "    \n",
        "test()"
      ]
    },
    {
      "cell_type": "markdown",
      "metadata": {
        "id": "IY5L-h-7zWhN"
      },
      "source": [
        "<h1>Задача 3. Напишите функцию, которая возвращает уникальные элементы из каждой строки матрицы. Напишите такую же функцию, но для столбцов. Напишите тесты для кода"
      ]
    },
    {
      "cell_type": "code",
      "execution_count": 1,
      "metadata": {
        "id": "-8dEZhR0SBC-"
      },
      "outputs": [
        {
          "name": "stdout",
          "output_type": "stream",
          "text": [
            "[{1, 2, 3, 4, 5}, {4, 5, 6, 7}, {3, 4, 5}]\n",
            "[{1, 2, 3, 5}, {1, 2, 3}, {2}, {9, 5, 6, 7}]\n"
          ]
        }
      ],
      "source": [
        "def unique_rows(mat):\n",
        "  return [(set(row)) for row in mat]\n",
        "\n",
        "def unique_columns(mat):\n",
        "  return [(set(column)) for column in zip(*mat)]\n",
        "\n",
        "rows = [\n",
        "    [1, 2, 3, 4, 5],\n",
        "    [5, 6, 7, 7, 4],\n",
        "    [5, 4, 4, 4, 3]]\n",
        "\n",
        "print(unique_rows(rows))\n",
        "\n",
        "column = [\n",
        "    [1, 1, 2, 9],\n",
        "    [2, 2, 2, 5],\n",
        "    [3, 2, 2, 7],\n",
        "    [5, 3, 2, 6]]\n",
        "\n",
        "print(unique_columns(column))"
      ]
    },
    {
      "cell_type": "markdown",
      "metadata": {
        "id": "roYAlo4Jz-lH"
      },
      "source": [
        "<h1>Задача 4. Напишите функцию, которая заполняет матрицу с размерами $(m, n)$ случайными числами, распределенными по нормальному закону. Затем считает мат. ожидание и дисперсию для каждого из столбцов и строк, а также строит для каждой строки и столбца гистограмму значений (использовать функцию hist из модуля matplotlib.plot)"
      ]
    },
    {
      "cell_type": "code",
      "execution_count": null,
      "metadata": {
        "id": "nZK_71hMSQzv"
      },
      "outputs": [],
      "source": [
        "def fill_matrix(m, n):\n",
        "    matrix = np.random.normal(size=(m, n))\n",
        "    row_mat_expectation = np.mean(matrix, axis=1)\n",
        "    column_mat_expectation = np.mean(matrix, axis=0)\n",
        "    row_dispersion = np.var(matrix, axis=1)\n",
        "    column_dispersion = np.var(matrix, axis=0)\n",
        "    plt.figure(figsize=(8, 6))\n",
        "\n",
        "    for i in range(m):\n",
        "        plt.hist(matrix[i], label=f\"Строка {i + 1}\", color=f\"C{i}\")\n",
        "    plt.title('Гистограммы для строк')\n",
        "    plt.legend()\n",
        "    plt.show()\n",
        "    plt.figure(figsize=(8, 6))\n",
        "\n",
        "    for i in range(n):\n",
        "        plt.hist(matrix[:, i], label=f\"Столбец {i + 1}\", color=f\"C{i}\")\n",
        "    plt.title('Гистограммы для столбцов')\n",
        "    plt.legend()\n",
        "    plt.show()\n",
        "\n",
        "    print(f\"Матрица:\\n{matrix}\")\n",
        "    print(f\"Мат ожидания строк: {row_mat_expectation}\")\n",
        "    print(f\"Мат ожидания столбцов: {column_mat_expectation}\")\n",
        "    print(f\"Дисперии строк: {row_dispersion}\")\n",
        "    print(f\"Дисперсии столбцов: {column_dispersion}\")\n",
        "    return matrix, row_mat_expectation, column_mat_expectation, row_dispersion, column_dispersion\n",
        "\n",
        "matrix, row_mat_expectation, column_mat_expectation, row_dispersion, column_dispersion = fill_matrix(3, 3)"
      ]
    },
    {
      "cell_type": "markdown",
      "metadata": {
        "id": "BDyATNdM0dJ2"
      },
      "source": [
        "<h1>Задача 5. Напишите функцию, которая заполняет матрицу $(m, n)$ в шахматном порядке заданными числами $a$ и $b$. Напишите тесты для кода"
      ]
    },
    {
      "cell_type": "code",
      "execution_count": null,
      "metadata": {
        "id": "RWNJYWQGecS6"
      },
      "outputs": [],
      "source": [
        "def chess(m, n, a, b):\n",
        "    mat = np.empty((m, n))\n",
        "    for i in range(m):\n",
        "        for j in range(n):\n",
        "            if (i + j) % 2 == 0:\n",
        "                mat[i, j] = a\n",
        "            else:\n",
        "                mat[i, j] = b\n",
        "    return mat\n",
        "\n",
        "assert np.array_equal(chess(2, 2, 1, 0), np.array([[1, 0], [0, 1]]))\n",
        "assert np.array_equal(chess(3, 4, 1, 0), np.array([[1, 0, 1, 0], [0, 1, 0, 1], [1, 0, 1, 0]]))\n",
        "assert np.array_equal(chess(4, 3, 1, 0), np.array([[1, 0, 1], [0, 1, 0], [1, 0, 1], [0, 1, 0]]))\n",
        "assert np.array_equal(chess(3, 3, 1, 0), np.array([[1, 0, 1], [0, 1, 0], [1, 0, 1]]))\n",
        "assert np.array_equal(chess(2, 2, -1, 2), np.array([[-1, 2], [2, -1]]))\n",
        "assert np.array_equal(chess(2, 2, 5, 5), np.array([[5, 5], [5, 5]]))"
      ]
    },
    {
      "cell_type": "markdown",
      "metadata": {
        "id": "-ymXLtTN0vB6"
      },
      "source": [
        "<h1>Задача 6. Напишите функцию, которая отрисовывает прямоугольник с заданными размерами (a, b) на изображении размера (m, n), цвет фона задайте в схеме RGB, как и цвет прямоугольника. Цвета также должны быть параметрами функции. Напишите аналогичную функцию но для овала с полуосями a и b. Напишите тесты для кода.\n",
        "Примечание: уравнение эллипса (границы овала) можно записать как:\n",
        "<h1>$\\frac{(x-x_0)^2}{a^2}+\\frac{(y-y_0)^2}{b^2}=1$"
      ]
    },
    {
      "cell_type": "code",
      "execution_count": 1,
      "metadata": {
        "id": "sNfl1t_kfOF4"
      },
      "outputs": [],
      "source": [
        "import matplotlib.patches as patches\n",
        "\n",
        "def draw_rectangle(a, b, m, n, rectangle_color, background_color):\n",
        "    fig = plt.figure()\n",
        "    ax = fig.add_subplot(111)\n",
        "    background = patches.Rectangle((0, 0), m, n, color=background_color)\n",
        "    ax.add_patch(background)\n",
        "    rect = patches.Rectangle(((m - a) / 2, (n - b) / 2), a, b, color=rectangle_color)\n",
        "    ax.add_patch(rect)\n",
        "    plt.xlim(0, m)\n",
        "    plt.ylim(0, n)\n",
        "    plt.show()\n",
        "\n",
        "def draw_ellipse(a, b, m, n, ellipse_color, background_color):\n",
        "    fig = plt.figure()\n",
        "    ax = fig.add_subplot(111)\n",
        "    background = patches.Rectangle((0, 0), m, n, color=background_color)\n",
        "    ax.add_patch(background)\n",
        "    a *= 2\n",
        "    b *= 2\n",
        "    eli = patches.Ellipse((m / 2, n / 2), a, b, color=ellipse_color)\n",
        "    ax.add_patch(eli)\n",
        "    plt.xlim(0, m)\n",
        "    plt.ylim(0, n)\n",
        "    plt.show()\n",
        "\n",
        "draw_rectangle(60, 100, 140, 350, \"#FFC300\", \"white\")\n",
        "draw_ellipse(60, 100, 140, 350, \"#007BFF\", \"white\")"
      ]
    },
    {
      "cell_type": "markdown",
      "metadata": {
        "id": "S82c38oz244H"
      },
      "source": [
        "<h1>Задача 7. Дан некий временной ряд. Для данного ряда нужно найти его: математическое ожидание, дисперсию, СКО, найти все локальные максимумы и минимумы (локальный максимум - это точка, которая больше своих соседних точек, а локальный минимум - это точка, которая меньше своих соседей), а также вычислить для данного ряда другой ряд, получаемый методом скользящего среднего с размером окна $p$.\n",
        "<h1>Примечание: метод скользящего среднего подразумевает нахождение среднего из подмножетсва ряда размером $p$"
      ]
    },
    {
      "cell_type": "code",
      "execution_count": null,
      "metadata": {
        "id": "Zb9mIVge5MMt"
      },
      "outputs": [],
      "source": [
        "def time_series(time_series):\n",
        "    mean = np.mean(time_series)\n",
        "    variance = np.var(time_series)\n",
        "    std_dev = np.std(time_series)\n",
        "    local_maxima = []\n",
        "    local_minima = []\n",
        "    for i in range(1, len(time_series) - 1):\n",
        "        if time_series[i] > time_series[i - 1] and time_series[i] > time_series[i + 1]:\n",
        "            local_maxima.append(time_series[i])\n",
        "        if time_series[i] < time_series[i - 1] and time_series[i] < time_series[i + 1]:\n",
        "            local_minima.append(time_series[i])\n",
        "    rolling_mean = np.convolve(time_series, np.ones(3) / 3, 'valid')\n",
        "\n",
        "    print(f\"Мат. ожидание: {mean}\")\n",
        "    print(f\"Дисперсия: {variance}\")\n",
        "    print(f\"СКО: {std_dev}\")\n",
        "    print(f\"Локальные максимумы: {local_maxima}\")\n",
        "    print(f\"Локальные минимумы: {local_minima}\")\n",
        "    print(f\"Скользящее среднее: {rolling_mean}\")\n",
        "\n",
        "time_series([1,2,7,4,9,6,7,8,9,10])"
      ]
    },
    {
      "cell_type": "markdown",
      "metadata": {
        "id": "jPkylmOX5O9n"
      },
      "source": [
        "<h1> Задача 8. Дан некоторый вектор с целочисленными метками классов, напишите функцию, которая выполняет one-hot-encoding для данного вектора\n",
        "<h1> One-hot-encoding - представление, в котором на месте метки некоторого класса стоит 1, в остальных позициях стоит 0. Например для вектора [0, 2, 3, 0] one-hot-encoding выглядит как: [[1, 0, 0, 0], [0, 0, 1, 0], [0, 0, 0, 1], [1, 0, 0, 0]]"
      ]
    },
    {
      "cell_type": "code",
      "execution_count": null,
      "metadata": {
        "id": "Y-jlnZvw56lD"
      },
      "outputs": [],
      "source": [
        "def to_one_hot(data):\n",
        "    num_values = len(data)\n",
        "    encoded_data = np.zeros((num_values, num_values), dtype=int)\n",
        "    for i, value in enumerate(data):\n",
        "        encoded_data[i, value] = 1\n",
        "    return encoded_data.tolist()\n",
        "\n",
        "\n",
        "encoded_data = to_one_hot([0,2,3,0])\n",
        "print(encoded_data)"
      ]
    }
  ],
  "metadata": {
    "colab": {
      "provenance": []
    },
    "kernelspec": {
      "display_name": "Python 3",
      "name": "python3"
    },
    "language_info": {
      "codemirror_mode": {
        "name": "ipython",
        "version": 3
      },
      "file_extension": ".py",
      "mimetype": "text/x-python",
      "name": "python",
      "nbconvert_exporter": "python",
      "pygments_lexer": "ipython3",
      "version": "3.12.2"
    }
  },
  "nbformat": 4,
  "nbformat_minor": 0
}
