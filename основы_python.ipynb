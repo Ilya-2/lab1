{
  "cells": [
    {
      "cell_type": "markdown",
      "metadata": {
        "id": "M-DGa20PaHnu"
      },
      "source": [
        "#Задача 1\n",
        "Написать функцию на вход которой подается строка, состоящая из латинских букв.\n",
        "Функция должна вернуть количество гласных букв (a, e, i, o, u) в этой строке. Написать тесты для кода"
      ]
    },
    {
      "cell_type": "code",
      "execution_count": 1,
      "metadata": {
        "id": "XvX8X_JJ6PCb"
      },
      "outputs": [
        {
          "name": "stdout",
          "output_type": "stream",
          "text": [
            "Все тесты пройдены!\n"
          ]
        }
      ],
      "source": [
        "def check_gl(stroka):\n",
        "    k = 0\n",
        "    alf = 'aeiouy'\n",
        "    for i in stroka.lower():\n",
        "        if i in alf:\n",
        "            k += 1\n",
        "    return k\n",
        "\n",
        "def test():\n",
        "  assert check_gl('fgeouda') == 4\n",
        "  assert check_gl('qwertyuiop') == 5\n",
        "  assert check_gl(\"aeiou\") == 5\n",
        "  assert check_gl('QWERTYao45') == 4\n",
        "  assert check_gl('QWERTY') == 2\n",
        "  assert check_gl('asdfghjkl') == 1\n",
        "  assert check_gl('sdfghjkl') == 0\n",
        "  print(\"Все тесты пройдены!\")\n",
        "\n",
        "test()"
      ]
    },
    {
      "cell_type": "markdown",
      "metadata": {
        "id": "t2ClV_Y0bbr6"
      },
      "source": [
        "# Задача 2\n",
        "Написать функцию на вход, которой подается строка. Функция должна вернуть true, если\n",
        "каждый символ в строке встречается только 1 раз, иначе должна вернуть false. Написать тесты для кода"
      ]
    },
    {
      "cell_type": "code",
      "execution_count": null,
      "metadata": {
        "id": "FppbECao6VIz"
      },
      "outputs": [],
      "source": [
        "def check_letter(word):\n",
        "    for i in word:\n",
        "        if word.lower().count(i) == 1:\n",
        "            continue\n",
        "        else: \n",
        "            return False\n",
        "            break\n",
        "    return True\n",
        "\n",
        "\n",
        "def test():\n",
        "  assert check_letter('qwertyuiop') == True\n",
        "  assert check_letter('qqwertyuiop') == False\n",
        "  assert check_letter('kraskaa') == False\n",
        "  assert check_letter('a b c') == False\n",
        "  assert check_letter('a bc') == True\n",
        "  assert check_letter('') == True\n",
        "  assert check_letter('QWEtyuE') == False\n",
        "  assert check_letter('3456789') == True\n",
        "  assert check_letter('345677RE') == False\n",
        "  assert check_letter('krasA') == False\n",
        "  assert check_letter('[][') == False\n",
        "  print(\"Все тесты пройдены!\")\n",
        "\n",
        "\n",
        "test()"
      ]
    },
    {
      "cell_type": "markdown",
      "metadata": {
        "id": "udRiIK1cdt6E"
      },
      "source": [
        "# Задача 3\n",
        "Написать функцию, которая принимает положительное число и возвращает количество\n",
        "бит равных 1 в этом числе. Написать тесты для кода"
      ]
    },
    {
      "cell_type": "code",
      "execution_count": null,
      "metadata": {
        "id": "6tkfDJRz6dp_"
      },
      "outputs": [],
      "source": [
        "def count_bit(n):\n",
        "    return bin(n).count('1')\n",
        "\n",
        "def test():\n",
        "    assert count_bit(0) == 0\n",
        "    assert count_bit(1) == 1\n",
        "    assert count_bit(7) == 3\n",
        "    assert count_bit(10) == 2\n",
        "    assert count_bit(520) == 2\n",
        "    assert count_bit(1022) == 9\n",
        "    assert count_bit(2024) == 7\n",
        "    print(\"Тесты пройдены!\")\n",
        "\n",
        "test()"
      ]
    },
    {
      "cell_type": "markdown",
      "metadata": {
        "id": "26dDUz-Ae17N"
      },
      "source": [
        "# Задача 4\n",
        "Написать функцию, которая принимает положительное число. Функция должна вернуть то,\n",
        "сколько раз необходимо перемножать цифры числа или результат перемножения, чтобы\n",
        "получилось число состоящее из одной цифры.\n",
        "Например, для входного числа:\n",
        "· 39 функция должна вернуть 3, так как 3*9=27 => 2*7=14 => 1*4=4\n",
        "· 4 функция должна вернуть 0, так как число уже состоит из одной цифры\n",
        "· 999 функция должна вернуть 4, так как 9*9*9=729 => 7*2*9=126 => 1*2*6=12 =>\n",
        "1*2=2. Написать тесты для кода"
      ]
    },
    {
      "cell_type": "code",
      "execution_count": 10,
      "metadata": {
        "id": "BH1A_Mgi6i4G"
      },
      "outputs": [
        {
          "name": "stdout",
          "output_type": "stream",
          "text": [
            "Все тесты пройдены!\n"
          ]
        }
      ],
      "source": [
        "def magic(n):\n",
        "    k = 0\n",
        "    while n >= 10:\n",
        "        res = 1\n",
        "        for i in str(n):\n",
        "            res *= int(i)\n",
        "        n = res\n",
        "        k += 1\n",
        "    return k\n",
        "\n",
        "def test():\n",
        "  assert magic(39) == 3\n",
        "  assert magic(999) == 4\n",
        "  assert magic(565) == 2\n",
        "  assert magic(99999) == 2\n",
        "  assert magic(4) == 0\n",
        "  assert magic(500) == 1\n",
        "  print(\"Все тесты пройдены!\")\n",
        "\n",
        "test()"
      ]
    },
    {
      "cell_type": "markdown",
      "metadata": {
        "id": "0nS-kIa8g8vd"
      },
      "source": [
        "# Задача 5\n",
        "Написать функцию, которая принимает два целочисленных вектора одинаковой длины и\n",
        "возвращает среднеквадратическое отклонение двух векторов. Написать тесты для кода"
      ]
    },
    {
      "cell_type": "code",
      "execution_count": null,
      "metadata": {
        "id": "8iphx4LM6xbx"
      },
      "outputs": [],
      "source": [
        "from math import *\n",
        "\n",
        "def mse(pred, true):\n",
        "    if len(pred) != len(true):\n",
        "        return \"Векторы разной длины\"\n",
        "    res = 0\n",
        "    for i in range(len(pred)):\n",
        "        res += (pred[i] - true[i]) ** 2\n",
        "    return sqrt((res / len(pred)))\n",
        "\n",
        "def test():\n",
        "    assert mse([1, 2, 3], [1, 2]) == \"Векторы разной длины\"\n",
        "    assert mse([3, 4, 5], [1, 2, 3]) == 2.0\n",
        "    assert mse([3, 4, 5, 6], [1, 2, 3, 3]) == 2.29128784747792\n",
        "    assert mse([3, 4, 5, 6, 10], [1, 2, 3, 3, 35]) == 11.366617790706258\n",
        "    print(\"Все тесты пройдены!\")\n",
        "\n",
        "test()"
      ]
    },
    {
      "cell_type": "markdown",
      "metadata": {
        "id": "vpIPKL439zkw"
      },
      "source": [
        "# Задача 6\n",
        "Написать функцию, принимающая целое положительное число. Функция должна вернуть\n",
        "строку вида “(n1**p1)(n2**p2)…(nk**pk)” представляющая разложение числа на простые\n",
        "множители (если pi == 1, то выводить только ni).\n",
        "Например, для числа 86240 функция должна вернуть “(2**5)(5)(7**2)(11)”. Написать тесты для кода"
      ]
    },
    {
      "cell_type": "code",
      "execution_count": 9,
      "metadata": {
        "id": "pFebmcZk94Jw"
      },
      "outputs": [
        {
          "name": "stdout",
          "output_type": "stream",
          "text": [
            "Тесты пройдены!\n"
          ]
        }
      ],
      "source": [
        "def find_factors(num):\n",
        "    prime_factors = []\n",
        "    delitel = 2\n",
        "    while num > 1:\n",
        "        if num % delitel == 0:\n",
        "            count = 0\n",
        "            while num % delitel == 0:\n",
        "                num //= delitel\n",
        "                count += 1\n",
        "            prime_factors.append((delitel, count))\n",
        "        delitel += 1\n",
        "    return prime_factors\n",
        "\n",
        "def factorization(num):\n",
        "    res = \"\"\n",
        "    for delit, e in find_factors(num):\n",
        "        if e == 1:\n",
        "            res += f\"({delit})\"\n",
        "        else:\n",
        "            res += f\"({delit}**{e})\"\n",
        "    return res\n",
        "\n",
        "def test():\n",
        "    assert factorization(945) == \"(3**3)(5)(7)\"\n",
        "    assert factorization(50) == \"(2)(5**2)\"\n",
        "    assert factorization(28) == \"(2**2)(7)\"\n",
        "    assert factorization(144) == \"(2**4)(3**2)\"\n",
        "    print(\"Тесты пройдены!\")\n",
        "\n",
        "test()"
      ]
    },
    {
      "cell_type": "markdown",
      "metadata": {
        "id": "ps2s0BudX7A2"
      },
      "source": [
        "# Задача 7\n",
        "Написать функцию, принимающая целое число n, задающее количество кубиков. Функция\n",
        "должна определить, можно ли из данного кол-ва кубиков построить пирамиду, то есть\n",
        "можно ли представить число n как 1^2+2^2+3^2+…+k^2. Если можно, то функция должна\n",
        "вернуть k, иначе строку “It is impossible”. Написать тесты для кода"
      ]
    },
    {
      "cell_type": "code",
      "execution_count": null,
      "metadata": {
        "id": "3YPjEXxhX_YT"
      },
      "outputs": [],
      "source": [
        "def pyramid(number):\n",
        "    res = 0\n",
        "    k = 1\n",
        "    while res < number:\n",
        "        res += k**2\n",
        "        if res == number:\n",
        "            return k\n",
        "            break\n",
        "        else:\n",
        "            k += 1\n",
        "    return 'It is impossible'\n",
        "\n",
        "def test():\n",
        "  assert pyramid(31) == 'It is impossible'\n",
        "  assert pyramid(1) == 1\n",
        "  assert pyramid(30) == 4\n",
        "  assert pyramid(14) == 3\n",
        "  assert pyramid(19) == 'It is impossible'\n",
        "  assert pyramid(35) == 'It is impossible'\n",
        "  assert pyramid(55) == 5\n",
        "  assert pyramid(60) == 'It is impossible'\n",
        "  assert pyramid(91) == 6\n",
        "  assert pyramid(140) == 7\n",
        "  print(\"Все тесты пройдены!\")\n",
        "\n",
        "\n",
        "test()"
      ]
    },
    {
      "cell_type": "markdown",
      "metadata": {
        "id": "KeKgmIdAQMEJ"
      },
      "source": [
        "# Задача 8\n",
        "Функция принимает на вход положительное число и определяет является ли оно сбалансированным, т.е. сумма цифр до средних равна сумме цифр после. Средними в случае нечетного числа цифр считать одну цифру, в случае четного - две средних. Написать тесты для кода"
      ]
    },
    {
      "cell_type": "code",
      "execution_count": null,
      "metadata": {
        "id": "gMAAqtqlQrZt"
      },
      "outputs": [],
      "source": [
        "def is_symmetric(number):\n",
        "    digits = [int(digit) for digit in str(number)]\n",
        "    total_length = len(digits)\n",
        "    mid_index = total_length // 2\n",
        "    if total_length % 2 != 0:\n",
        "        left_side = digits[:mid_index]\n",
        "        right_side = digits[mid_index + 1:]\n",
        "    else:\n",
        "        left_side = digits[:mid_index]\n",
        "        right_side = digits[mid_index:]\n",
        "    return sum(left_side) == sum(right_side)\n",
        "\n",
        "def test():\n",
        "    assert is_symmetric(123321) == True\n",
        "    assert is_symmetric(13531) == True\n",
        "    assert is_symmetric(987789) == True\n",
        "    assert is_symmetric(54321) == False\n",
        "    assert is_symmetric(111111) == True\n",
        "    print(\"Все тесты пройдены!\")\n",
        "\n",
        "test()"
      ]
    }
  ],
  "metadata": {
    "colab": {
      "provenance": []
    },
    "kernelspec": {
      "display_name": "Python 3",
      "name": "python3"
    },
    "language_info": {
      "codemirror_mode": {
        "name": "ipython",
        "version": 3
      },
      "file_extension": ".py",
      "mimetype": "text/x-python",
      "name": "python",
      "nbconvert_exporter": "python",
      "pygments_lexer": "ipython3",
      "version": "3.12.2"
    }
  },
  "nbformat": 4,
  "nbformat_minor": 0
}
